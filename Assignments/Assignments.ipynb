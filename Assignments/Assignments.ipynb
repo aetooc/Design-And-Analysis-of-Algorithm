{
 "cells": [
  {
   "cell_type": "markdown",
   "id": "1650283c-174c-48dc-a3cc-fb1392bb4c62",
   "metadata": {},
   "source": [
    "# Assignment 1"
   ]
  },
  {
   "cell_type": "markdown",
   "id": "4d1a3539-3134-4c73-b34a-fd11104f499a",
   "metadata": {},
   "source": [
    " "
   ]
  },
  {
   "cell_type": "code",
   "execution_count": null,
   "id": "83c3ff25-a54d-4b9f-bceb-7fa709db0637",
   "metadata": {},
   "outputs": [],
   "source": []
  },
  {
   "cell_type": "code",
   "execution_count": 4,
   "id": "0e520e0b-464f-401c-9642-532f2d954055",
   "metadata": {},
   "outputs": [
    {
     "name": "stdin",
     "output_type": "stream",
     "text": [
      "Please Enter The First Number:  1\n",
      "Please Enter The Second Number:  1\n"
     ]
    },
    {
     "name": "stdout",
     "output_type": "stream",
     "text": [
      "Result: \n",
      "\n",
      "01 X 01 = 1\n",
      "__________________\n",
      "1 X 1 = 1\n"
     ]
    }
   ],
   "source": [
    "class Multiply:\n",
    "    \n",
    "    def __init__(self):\n",
    "        self.__numOne = int(input(\"Please Enter The First Number: \"))\n",
    "        self.__numTwo = int(input(\"Please Enter The Second Number: \"))\n",
    "        # self.__numOne = -981\n",
    "        # self.__numTwo = 1234\n",
    "        self.__negOne = False\n",
    "        self.__negTwo = False\n",
    "        \n",
    "        if (self.__numOne < 0):\n",
    "            self.__negOne = True\n",
    "            self.__numOne = abs(self.__numOne)\n",
    "        \n",
    "        if (self.__numTwo < 0):\n",
    "            self.__negTwo = True\n",
    "            self.__numTwo = abs(self.__numTwo)\n",
    "            \n",
    "        \n",
    "        self.__finalResult = []\n",
    "        self.__lenOne = len(str(self.__numOne))\n",
    "        self.__lenTwo = len(str(self.__numTwo))\n",
    "        self.__strNumOne = str(self.__numOne)\n",
    "        self.__strNumTwo = str(self.__numTwo)\n",
    "        \n",
    "    def LenCheck(self):\n",
    "        if (self.__numOne < 0):\n",
    "            self.__numOne = abs(self.__numOne)\n",
    "        \n",
    "        if (self.__numTwo < 0):\n",
    "            self.__numTwo = abs(self.__numTwo)\n",
    "        \n",
    "        if (self.__lenOne % 2 != 0):\n",
    "            self.__lenOne += 1\n",
    "            self.__strNumOne = '0' + self.__strNumOne \n",
    "\n",
    "\n",
    "        if (self.__lenTwo % 2 != 0):\n",
    "            self.__lenTwo += 1\n",
    "            self.__strNumTwo = '0' + self.__strNumTwo \n",
    "                \n",
    "    def DivideAndConquer(self):\n",
    "        indexOne, indexTwo, shift, temp = 0, 0, 0, 0\n",
    "        tempLenOne, tempLenTwo = self.__lenOne, self.__lenTwo\n",
    "        \n",
    "        print(\"Result: \\n\")\n",
    "        for i in range( max(self.__lenOne, self.__lenTwo)//2 ):\n",
    "            firstPair  = self.__strNumOne[indexOne : indexOne+2] #09\n",
    "            shift = tempLenOne - len(firstPair)\n",
    "            tempLenOne = shift\n",
    "            \n",
    "            for j in range( min(self.__lenOne, self.__lenTwo)//2 ):\n",
    "                secondPair = self.__strNumTwo[indexTwo : indexTwo+2] #12\n",
    "                \n",
    "\n",
    "                shift += tempLenTwo - len(secondPair)\n",
    "                tempLenTwo = tempLenTwo - len(secondPair)\n",
    "                \n",
    "                # print(firstPair, \" \", secondPair)\n",
    "                \n",
    "                temp = str( int(firstPair) * int(secondPair) ) + ('0' * shift)\n",
    "                print(f\"{firstPair} X {secondPair} = {str( int(firstPair) * int(secondPair) ) + ('.' * shift)}\")\n",
    "                self.__finalResult.append(int(temp))\n",
    "                indexTwo += 2\n",
    "                shift = tempLenOne\n",
    "                \n",
    "                \n",
    "            indexOne += 2\n",
    "            indexTwo = 0\n",
    "            tempLenTwo = self.__lenTwo\n",
    "            \n",
    "            \n",
    "        \n",
    "                \n",
    "    def Result(self):\n",
    "        result = sum(self.__finalResult)\n",
    "        if ( (self.__negOne == True and self.__negTwo != True) or (self.__negOne != True and self.__negTwo == True) ):\n",
    "            result *= -1\n",
    "            if self.__negOne == True:\n",
    "                self.__numOne *= -1\n",
    "            else:\n",
    "                self.__numTwo *= -1\n",
    "        \n",
    "        print(f\"__________________\\n{self.__numOne} X {self.__numTwo} = {result}\")\n",
    "        \n",
    "        \n",
    "        \n",
    "obj = Multiply()\n",
    "obj.LenCheck()\n",
    "obj.DivideAndConquer()\n",
    "obj.Result()"
   ]
  },
  {
   "cell_type": "code",
   "execution_count": null,
   "id": "ab77ebac-f1f1-4136-85e1-13e61e4f38b1",
   "metadata": {},
   "outputs": [],
   "source": []
  }
 ],
 "metadata": {
  "kernelspec": {
   "display_name": "Python 3 (ipykernel)",
   "language": "python",
   "name": "python3"
  },
  "language_info": {
   "codemirror_mode": {
    "name": "ipython",
    "version": 3
   },
   "file_extension": ".py",
   "mimetype": "text/x-python",
   "name": "python",
   "nbconvert_exporter": "python",
   "pygments_lexer": "ipython3",
   "version": "3.8.12"
  }
 },
 "nbformat": 4,
 "nbformat_minor": 5
}
